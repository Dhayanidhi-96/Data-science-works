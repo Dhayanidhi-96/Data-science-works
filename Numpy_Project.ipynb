{
  "nbformat": 4,
  "nbformat_minor": 0,
  "metadata": {
    "colab": {
      "provenance": [],
      "authorship_tag": "ABX9TyMyHjxH4nUbOkp7FlV1ixdh",
      "include_colab_link": true
    },
    "kernelspec": {
      "name": "python3",
      "display_name": "Python 3"
    },
    "language_info": {
      "name": "python"
    }
  },
  "cells": [
    {
      "cell_type": "markdown",
      "metadata": {
        "id": "view-in-github",
        "colab_type": "text"
      },
      "source": [
        "<a href=\"https://colab.research.google.com/github/Dhayanidhi-96/Dhayanidhi-96.github.io/blob/main/Numpy_Project.ipynb\" target=\"_parent\"><img src=\"https://colab.research.google.com/assets/colab-badge.svg\" alt=\"Open In Colab\"/></a>"
      ]
    },
    {
      "cell_type": "markdown",
      "source": [
        "#**Analysing the data with numpy**\n",
        "\n",
        "Data set link - (https://drive.google.com/file/d/1Zu1xLzjcRKgWJ-B2k1j4BdMVFutkiqic/view)\n",
        "\n",
        "Analysis of Data on cab Rides To or from the Airports in New york City.\n",
        "\n",
        "##**Problem statements**\n",
        "\n",
        "1. Mean speed of all the Rides\n",
        "2. Number of rides taken in February\n",
        "3. Number of Rides where tip more Than $50\n",
        "4. Number of rides where drop eas JFK Airport\n",
        "\n"
      ],
      "metadata": {
        "id": "QQGirPBrmNnT"
      }
    },
    {
      "cell_type": "code",
      "source": [
        "!jupyter nbconvert --to html /content/Numpy_Project.ipynb"
      ],
      "metadata": {
        "colab": {
          "base_uri": "https://localhost:8080/"
        },
        "id": "NIafm75guFeo",
        "outputId": "7dca89ee-fbe2-49c9-edb0-ff2a86b59638"
      },
      "execution_count": null,
      "outputs": [
        {
          "output_type": "stream",
          "name": "stdout",
          "text": [
            "[NbConvertApp] Converting notebook /content/Numpy_Project.ipynb to html\n",
            "[NbConvertApp] Writing 584924 bytes to /content/Numpy_Project.html\n"
          ]
        }
      ]
    },
    {
      "cell_type": "code",
      "execution_count": null,
      "metadata": {
        "id": "XdDpmO5pjIM9"
      },
      "outputs": [],
      "source": [
        "import numpy as np"
      ]
    },
    {
      "cell_type": "code",
      "source": [
        "taxi = np.genfromtxt('nyc_taxis.csv',delimiter = ',',skip_header = True)"
      ],
      "metadata": {
        "id": "oKZKNlYwoUfq"
      },
      "execution_count": null,
      "outputs": []
    },
    {
      "cell_type": "code",
      "source": [
        "speed = taxi[:,7]/(taxi[:,8]/3600)"
      ],
      "metadata": {
        "id": "lBsvlydjowRp"
      },
      "execution_count": null,
      "outputs": []
    },
    {
      "cell_type": "markdown",
      "source": [
        "## 1. Mean speed of all the Rides"
      ],
      "metadata": {
        "id": "5T67CftA03ia"
      }
    },
    {
      "cell_type": "code",
      "source": [
        "mean_speed = speed.mean()\n",
        "print(mean_speed)"
      ],
      "metadata": {
        "colab": {
          "base_uri": "https://localhost:8080/"
        },
        "id": "lOm0rc4yqSc1",
        "outputId": "261d42a7-69ad-44c2-8b4e-ec656e67dcc6"
      },
      "execution_count": null,
      "outputs": [
        {
          "output_type": "stream",
          "name": "stdout",
          "text": [
            "32.24258580925573\n"
          ]
        }
      ]
    },
    {
      "cell_type": "markdown",
      "source": [
        "## 2. Number of rides taken in February"
      ],
      "metadata": {
        "id": "BGpHNoXl0-GN"
      }
    },
    {
      "cell_type": "code",
      "source": [
        "rides_feb = taxi[taxi[:,1] == 2,1]\n",
        "print(rides_feb.shape[0])"
      ],
      "metadata": {
        "colab": {
          "base_uri": "https://localhost:8080/"
        },
        "id": "Wr7ry9sfqnkr",
        "outputId": "331abd15-195b-4d26-9283-cdc453202da8"
      },
      "execution_count": null,
      "outputs": [
        {
          "output_type": "stream",
          "name": "stdout",
          "text": [
            "13333\n"
          ]
        }
      ]
    },
    {
      "cell_type": "markdown",
      "source": [
        "# 3. Number of Rides where tip more Than $50"
      ],
      "metadata": {
        "id": "7dGrRTCm1GmM"
      }
    },
    {
      "cell_type": "code",
      "source": [
        "print(taxi[taxi[:,-3]>50,-3].shape[0])"
      ],
      "metadata": {
        "id": "AhfTx-qwtOid",
        "colab": {
          "base_uri": "https://localhost:8080/"
        },
        "outputId": "b88262ca-bfd5-4bfd-9cbd-d0fd426fb414"
      },
      "execution_count": null,
      "outputs": [
        {
          "output_type": "stream",
          "name": "stdout",
          "text": [
            "16\n"
          ]
        }
      ]
    },
    {
      "cell_type": "markdown",
      "source": [
        "## 4. Number of rides where drop eas JFK Airport"
      ],
      "metadata": {
        "id": "S-LqiKnW1JZW"
      }
    },
    {
      "cell_type": "code",
      "source": [
        "taxi[taxi[:,6] == 2,6].shape[0]"
      ],
      "metadata": {
        "colab": {
          "base_uri": "https://localhost:8080/"
        },
        "id": "-SF6PoSewwjL",
        "outputId": "5322775b-211e-4595-b05b-135187aee5bf"
      },
      "execution_count": null,
      "outputs": [
        {
          "output_type": "execute_result",
          "data": {
            "text/plain": [
              "11832"
            ]
          },
          "metadata": {},
          "execution_count": 21
        }
      ]
    }
  ]
}