{
  "nbformat": 4,
  "nbformat_minor": 0,
  "metadata": {
    "colab": {
      "provenance": [],
      "authorship_tag": "ABX9TyMnwKsCsrwVNYr6yXHcunv1",
      "include_colab_link": true
    },
    "kernelspec": {
      "name": "python3",
      "display_name": "Python 3"
    },
    "language_info": {
      "name": "python"
    }
  },
  "cells": [
    {
      "cell_type": "markdown",
      "metadata": {
        "id": "view-in-github",
        "colab_type": "text"
      },
      "source": [
        "<a href=\"https://colab.research.google.com/github/Dhayanidhi-96/Data-science-works/blob/main/oops_.ipynb\" target=\"_parent\"><img src=\"https://colab.research.google.com/assets/colab-badge.svg\" alt=\"Open In Colab\"/></a>"
      ]
    },
    {
      "cell_type": "markdown",
      "source": [
        "**INHERITENCE**"
      ],
      "metadata": {
        "id": "ubIosmWi6_5u"
      }
    },
    {
      "cell_type": "code",
      "execution_count": null,
      "metadata": {
        "colab": {
          "base_uri": "https://localhost:8080/"
        },
        "id": "SkKfIZ2u678Q",
        "outputId": "99da11d5-c869-4256-c91a-0c6c1e6a0399"
      },
      "outputs": [
        {
          "output_type": "stream",
          "name": "stdout",
          "text": [
            "feature 1 is working\n",
            "feature 2 is working\n",
            "feature 3 is working\n",
            "feature 4 is working\n",
            "feature 1 is working\n",
            "feature 2 is working\n",
            "feature 3 is working\n",
            "feature 4 is working\n",
            "feature 5 is working\n"
          ]
        }
      ],
      "source": [
        "class A:\n",
        "  def feature1(self):\n",
        "    print(\"feature 1 is working\")\n",
        "  def feature2(self):\n",
        "    print(\"feature 2 is working\")\n",
        "\n",
        "#single level inheritence\n",
        "\n",
        "class B:\n",
        "  def feature3(self):\n",
        "    print(\"feature 3 is working\")\n",
        "  def feature4(self):\n",
        "    print(\"feature 4 is working\")\n",
        "#MULTI LEVEL INHERITANCE\n",
        "class C(B,A):\n",
        "  def feature5(self):\n",
        "    print(\"feature 5 is working\")\n",
        "\n",
        "a1 = A()\n",
        "\n",
        "a1.feature1()\n",
        "a1.feature2()\n",
        "\n",
        "b1 = B()\n",
        "\n",
        "b1.feature3()\n",
        "b1.feature4()\n",
        "\n",
        "c1 = C()\n",
        "\n",
        "c1.feature1()\n",
        "c1.feature2()\n",
        "c1.feature3()\n",
        "c1.feature4()\n",
        "c1.feature5()"
      ]
    },
    {
      "cell_type": "markdown",
      "source": [
        "**CONSTRUCTOR IN INHERITENCE**\n",
        "\n",
        "Sub class can accesss all the features\n",
        "of Super class but\n",
        "\n",
        "Super class can not acess any features of Sub class\n"
      ],
      "metadata": {
        "id": "f0jYPFMj94v4"
      }
    },
    {
      "cell_type": "code",
      "source": [
        "#A is super class\n",
        "class A:\n",
        "  def __init__(self):\n",
        "    print(\"in A init\")\n",
        "\n",
        "  def feature1(self):\n",
        "    print(\"feature 1 is working\")\n",
        "  def feature2(self):\n",
        "    print(\"feature 2 is working\")\n",
        "\n",
        "#single level inheritence\n",
        "#B is sub class\n",
        "class B(A):\n",
        "  def __init__(self):\n",
        "    super().__init__()\n",
        "    print(\"in B init\")\n",
        "\n",
        "  def feature3(self):\n",
        "    print(\"feature 3 is working\")\n",
        "  def feature4(self):\n",
        "    print(\"feature 4 is working\")\n",
        "\n",
        "a1=B()\n"
      ],
      "metadata": {
        "colab": {
          "base_uri": "https://localhost:8080/"
        },
        "id": "Z8ruljdG92Sh",
        "outputId": "1631f983-b222-48c4-ed3b-fa78447691ab"
      },
      "execution_count": null,
      "outputs": [
        {
          "output_type": "stream",
          "name": "stdout",
          "text": [
            "in A init\n",
            "in B init\n"
          ]
        }
      ]
    },
    {
      "cell_type": "markdown",
      "source": [
        "**METHOD RESOLUTION ORDER(MRO)**"
      ],
      "metadata": {
        "id": "JqOFy2dK-DD0"
      }
    },
    {
      "cell_type": "code",
      "source": [
        "#A is super class\n",
        "class A:\n",
        "  def __init__(self):\n",
        "    print(\"in A init\")\n",
        "\n",
        "  def feature1(self):\n",
        "    print(\"feature 1-A is working\")\n",
        "  def feature2(self):\n",
        "    print(\"feature 2 is working\")\n",
        "\n",
        "#single level inheritence\n",
        "#B is sub class\n",
        "class B(A):\n",
        "  def __init__(self):\n",
        "    super().__init__()\n",
        "    print(\"in B init\")\n",
        "\n",
        "  def feature1(self):\n",
        "    print(\"feature 1-B is working\")\n",
        "  def feature4(self):\n",
        "    print(\"feature 4 is working\")\n",
        "\n",
        "class C(B,A):\n",
        "\n",
        "  def __init__(self):\n",
        "    super().__init__()\n",
        "    print(\"in C init\")\n",
        "\n",
        "  def feat(self):\n",
        "    super().feature4()\n",
        "a1=C()\n",
        "a1.feat()"
      ],
      "metadata": {
        "colab": {
          "base_uri": "https://localhost:8080/"
        },
        "outputId": "897a599e-e9d5-4c7b-f2dd-805ab6f94818",
        "id": "Av8RjJtPBTVO"
      },
      "execution_count": null,
      "outputs": [
        {
          "output_type": "stream",
          "name": "stdout",
          "text": [
            "in A init\n",
            "in B init\n",
            "in C init\n",
            "feature 4 is working\n"
          ]
        }
      ]
    },
    {
      "cell_type": "markdown",
      "source": [
        "**POLYMORPHISM IN PYTHON THEORY**\n",
        "\n",
        "POLY - MANY\n",
        "\n",
        "MORPH - Form\n"
      ],
      "metadata": {
        "id": "FKepOuhUImAG"
      }
    },
    {
      "cell_type": "markdown",
      "source": [
        "**operator over loading**"
      ],
      "metadata": {
        "id": "AS9-3bTkceO3"
      }
    },
    {
      "cell_type": "code",
      "source": [
        "class student:\n",
        "  def __init__(self,m1,m2):\n",
        "    self.m1 = m1\n",
        "    self.m2 = m2\n",
        "\n",
        "  def __add__(self, other):\n",
        "    m1 = self.m1 + other.m1\n",
        "    m2 = self.m2 + other.m2\n",
        "    s3 = student(m1,m2)\n",
        "\n",
        "    return s3\n",
        "\n",
        "  def __gt__(self, other):\n",
        "    r1 = self.m1 + self.m2\n",
        "    r2 = other.m1 + other.m2\n",
        "    if r1 > r2:\n",
        "      return True\n",
        "    else:\n",
        "      return False\n",
        "\n",
        "  def __str__(self):\n",
        "    return '{} {}'.format(self.m1,self.m2)\n",
        "\n",
        "s1 = student(58,69)\n",
        "s2 = student(60,65)\n",
        "\n",
        "s3 = s1 + s2\n",
        "if s1 > s2:\n",
        "  print(\"s1 wins\")\n",
        "else:\n",
        "  print(\"s2 wins\")\n",
        "\n",
        "print(s1)\n",
        "print(s2)\n",
        "print(s3)\n"
      ],
      "metadata": {
        "id": "S_ut_uuMBlpf",
        "colab": {
          "base_uri": "https://localhost:8080/"
        },
        "outputId": "cdde90cd-ea27-430b-cef1-914f09c6e471"
      },
      "execution_count": null,
      "outputs": [
        {
          "output_type": "stream",
          "name": "stdout",
          "text": [
            "s1 wins\n",
            "58 69\n",
            "60 65\n",
            "118 134\n"
          ]
        }
      ]
    }
  ]
}