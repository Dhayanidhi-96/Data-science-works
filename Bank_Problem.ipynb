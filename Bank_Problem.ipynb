{
  "nbformat": 4,
  "nbformat_minor": 0,
  "metadata": {
    "colab": {
      "provenance": [],
      "authorship_tag": "ABX9TyO3qSBqUBKAeHYdrA2K/wPn",
      "include_colab_link": true
    },
    "kernelspec": {
      "name": "python3",
      "display_name": "Python 3"
    },
    "language_info": {
      "name": "python"
    }
  },
  "cells": [
    {
      "cell_type": "markdown",
      "metadata": {
        "id": "view-in-github",
        "colab_type": "text"
      },
      "source": [
        "<a href=\"https://colab.research.google.com/github/Dhayanidhi-96/Data-science-works/blob/main/Bank_Problem.ipynb\" target=\"_parent\"><img src=\"https://colab.research.google.com/assets/colab-badge.svg\" alt=\"Open In Colab\"/></a>"
      ]
    },
    {
      "cell_type": "markdown",
      "source": [
        "**Problem Description**\n",
        "\n",
        "You are given a Bank account having N amount and you are asked to perform ADD(credit) or SUBTRACT(debit) operation of an amount X.\n",
        "\n",
        "After the operation print the amount left in the Bank account. If the debit amount is greater than current balance print \"Insufficient Funds\"(without quotes) and the operation is skipped."
      ],
      "metadata": {
        "id": "naKY6LXILbBB"
      }
    },
    {
      "cell_type": "code",
      "execution_count": 5,
      "metadata": {
        "colab": {
          "base_uri": "https://localhost:8080/"
        },
        "id": "CwaQSwf1K82y",
        "outputId": "c6230c1c-00f9-454f-f8af-2beb7452e0da"
      },
      "outputs": [
        {
          "output_type": "stream",
          "name": "stdout",
          "text": [
            "Hi! welcome/n Debit or Credit :debit\n",
            "Enter you Debit amout : 200\n",
            "The amount is fetched sucessfully ...\n",
            " Account  Balance : 9800\n",
            "Thankyou\n"
          ]
        }
      ],
      "source": [
        "N = 10000\n",
        "A=input(\"Hi! welcome/n Debit or Credit :\").upper()\n",
        "while A==\"DEBIT\":\n",
        "  debit = int(input(\"Enter you Debit amout : \"))\n",
        "  if debit>=N:\n",
        "    print(\"Insuffecient Amount \")\n",
        "  elif debit<N:\n",
        "    balance = N-debit\n",
        "    print(f\"The amount is fetched sucessfully ...\")\n",
        "    print(f\" Account  Balance : {balance}\")\n",
        "  break\n",
        "\n",
        "while A==\"CREDIT\":\n",
        "  credit = int(input(\"Enter you credit amout : \"))\n",
        "  N = N+credit\n",
        "  print(\"Amount credited sucessfully \\n AVAILABLE BALANCE :\",balance)\n",
        "  break\n",
        "print(\"Thankyou\")\n"
      ]
    },
    {
      "cell_type": "code",
      "source": [],
      "metadata": {
        "id": "eboegA1YMy03"
      },
      "execution_count": null,
      "outputs": []
    }
  ]
}